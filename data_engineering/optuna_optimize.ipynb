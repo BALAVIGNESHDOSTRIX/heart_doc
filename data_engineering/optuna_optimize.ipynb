{
 "cells": [
  {
   "cell_type": "code",
   "execution_count": null,
   "metadata": {},
   "outputs": [],
   "source": [
    "import numpy as np\n",
    "import pandas as pd\n",
    "import torch\n",
    "import torch.nn as nn\n",
    "import torch.optim as optim\n",
    "from sklearn.datasets import load_breast_cancer\n",
    "from sklearn.model_selection import train_test_split\n"
   ]
  },
  {
   "cell_type": "code",
   "execution_count": null,
   "metadata": {},
   "outputs": [],
   "source": [
    "df = pd.read_csv('heart.csv')\n",
    "df[\"Sex\"].replace({'M': 0, 'F': 1}, inplace=True)\n",
    "df[\"ChestPainType\"].replace({\"ATA\": 0, \"NAP\": 1, \"ASY\": 2, \"TA\": 1}, inplace=True)\n",
    "df[\"RestingECG\"].replace({\"Normal\": 0, \"ST\": 1, \"LVH\": 2}, inplace=True)\n",
    "df[\"ExerciseAngina\"].replace({'N': 0, 'Y': 1}, inplace=True)\n",
    "df[\"ST_Slope\"].replace({\"Up\": 0, \"Flat\": 1, \"Down\": 2}, inplace=True)"
   ]
  },
  {
   "cell_type": "code",
   "execution_count": null,
   "metadata": {},
   "outputs": [],
   "source": [
    "features = ['ST_Slope',\n",
    " 'ChestPainType',\n",
    " 'ExerciseAngina',\n",
    " 'Cholesterol',\n",
    " 'MaxHR',\n",
    " 'Oldpeak',\n",
    " 'Sex',\n",
    " 'FastingBS',\n",
    " 'Age',\n",
    " 'RestingBP']"
   ]
  },
  {
   "cell_type": "code",
   "execution_count": null,
   "metadata": {},
   "outputs": [],
   "source": [
    "X, x_test, Y, y_test = train_test_split(df[features], df['HeartDisease'], train_size=0.8, test_size=0.2, random_state=42)\n",
    "X_train, x_valid, Y_train, y_valid = train_test_split(X,Y, test_size=0.25, train_size=0.75)"
   ]
  },
  {
   "cell_type": "code",
   "execution_count": null,
   "metadata": {},
   "outputs": [],
   "source": [
    "class ANN(nn.Module):\n",
    "    def __init__(self, input_dim, output_dim, hidden_dim, dropout_prob):\n",
    "        super().__init__()\n",
    "        self.fc1 = nn.Linear(input_dim, hidden_dim)\n",
    "        self.fc2 = nn.Linear(hidden_dim, hidden_dim)\n",
    "        self.fc3 = nn.Linear(hidden_dim, output_dim)\n",
    "        self.dropout = nn.Dropout(dropout_prob)\n",
    "        self.activation = nn.ReLU()\n",
    "    \n",
    "    def forward(self, x):\n",
    "        x = self.activation(self.fc1(x))\n",
    "        x = self.dropout(x)\n",
    "        x = self.activation(self.fc2(x))\n",
    "        x = self.dropout(x)\n",
    "        x = self.fc3(x)\n",
    "        return x"
   ]
  },
  {
   "cell_type": "code",
   "execution_count": null,
   "metadata": {},
   "outputs": [],
   "source": [
    "# X_train = torch.from_numpy(X_train.values.astype(np.float32)).repeat(10, 1)\n",
    "# y_train = torch.from_numpy(Y_train.values.astype(np.float32)).repeat(10)\n",
    "# X_val = torch.from_numpy(x_valid.values.astype(np.float32)).repeat(10, 1)\n",
    "# y_val = torch.from_numpy(y_valid.values.astype(np.float32)).repeat(10)\n",
    "\n",
    "X_train = torch.from_numpy(X_train.values.astype(np.float32))\n",
    "y_train = torch.from_numpy(Y_train.values.astype(np.float32))\n",
    "X_val = torch.from_numpy(x_valid.values.astype(np.float32))\n",
    "y_val = torch.from_numpy(y_valid.values.astype(np.float32))"
   ]
  },
  {
   "cell_type": "code",
   "execution_count": null,
   "metadata": {},
   "outputs": [],
   "source": [
    "from loa import Lion"
   ]
  },
  {
   "cell_type": "code",
   "execution_count": null,
   "metadata": {},
   "outputs": [],
   "source": [
    "def train(model, X_train, y_train, X_val, y_val, num_epochs, batch_size, learning_rate):\n",
    "    criterion = nn.BCEWithLogitsLoss()\n",
    "    optimizer = optim.AdamW(model.parameters(), lr=learning_rate)\n",
    "    \n",
    "    for epoch in range(num_epochs):\n",
    "        running_loss = 0.0\n",
    "        for i in range(0, len(X_train), batch_size):\n",
    "            batch_X, batch_y = X_train[i:i+batch_size], y_train[i:i+batch_size]\n",
    "            optimizer.zero_grad()\n",
    "            outputs = model(batch_X)\n",
    "            loss = criterion(outputs, batch_y.unsqueeze(1))\n",
    "            loss.backward()\n",
    "            optimizer.step()\n",
    "            running_loss += loss.item()\n",
    "        \n",
    "        # Calculate validation accuracy\n",
    "        with torch.no_grad():\n",
    "            outputs = model(X_val)\n",
    "            predicted = torch.round(torch.sigmoid(outputs))\n",
    "            accuracy = (predicted == y_val.unsqueeze(1)).sum().item() / len(y_val)\n",
    "        \n",
    "        print(f\"Epoch {epoch+1}/{num_epochs}, loss={running_loss/len(X_train)}, accuracy={accuracy}\")\n",
    "\n",
    "    return accuracy"
   ]
  },
  {
   "cell_type": "code",
   "execution_count": null,
   "metadata": {},
   "outputs": [],
   "source": [
    "import optuna\n",
    "\n",
    "# Define the objective function to optimize\n",
    "def objective(trial):\n",
    "    # Sample hyperparameters\n",
    "    hidden_dim = trial.suggest_int(\"hidden_dim\", 10, 400, log=True)\n",
    "    dropout_prob = trial.suggest_float(\"dropout_prob\", 0.0, 0.5)\n",
    "    \n",
    "    learning_rate = trial.suggest_loguniform(\"learning_rate\", 1e-5, 1e-1)\n",
    "    batch_size = trial.suggest_int(\"batch_size\", 8, 16, log=True)\n",
    "\n",
    "    # Create the model and train it\n",
    "    model = ANN(input_dim=len(features), output_dim=1, hidden_dim=hidden_dim, dropout_prob=dropout_prob)\n",
    "    accuracy = train(model, X_train, y_train, X_val, y_val, num_epochs=150, batch_size=batch_size, learning_rate=learning_rate)\n",
    "\n",
    "    return 1.0 - accuracy  # Optuna minimizes the objective function, so we need to return 1.0 - accuracy"
   ]
  },
  {
   "cell_type": "code",
   "execution_count": null,
   "metadata": {},
   "outputs": [],
   "source": [
    "# Create an Optuna study and optimize the objective function\n",
    "study = optuna.create_study(direction=\"minimize\")\n",
    "study.optimize(objective, n_trials=10)"
   ]
  },
  {
   "cell_type": "code",
   "execution_count": null,
   "metadata": {},
   "outputs": [],
   "source": [
    "# Print the best hyperparameters and the corresponding accuracy\n",
    "print(f\"Best hyperparameters: {study.best_params}\")\n",
    "print(f\"Best accuracy: {1.0 - study.best_value}\")"
   ]
  },
  {
   "cell_type": "code",
   "execution_count": null,
   "metadata": {},
   "outputs": [],
   "source": [
    "# X = df[[x for x in df.columns if x != 'HeartDisease']]\n",
    "# y = df['HeartDisease']\n",
    "\n",
    "# from mrmr import mrmr_classif\n",
    "# selected_features = mrmr_classif(X=X, y=y, K=10)"
   ]
  }
 ],
 "metadata": {
  "kernelspec": {
   "display_name": "heart_stroke",
   "language": "python",
   "name": "python3"
  },
  "language_info": {
   "codemirror_mode": {
    "name": "ipython",
    "version": 3
   },
   "file_extension": ".py",
   "mimetype": "text/x-python",
   "name": "python",
   "nbconvert_exporter": "python",
   "pygments_lexer": "ipython3",
   "version": "3.10.8"
  },
  "orig_nbformat": 4
 },
 "nbformat": 4,
 "nbformat_minor": 2
}
